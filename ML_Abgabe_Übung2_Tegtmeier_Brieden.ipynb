{
 "cells": [
  {
   "cell_type": "markdown",
   "metadata": {},
   "source": [
    "# Aufgabe 2.1:"
   ]
  },
  {
   "cell_type": "markdown",
   "metadata": {},
   "source": [
    "### Schreibe Sie für die folgenden Teilaufgaben jeweils eine Funktion in Python für numerische Werte. Testen Sie Ihren Implementierungen an folgender Liste:\n",
    "\n",
    "## a) Berechnung des Modus. (1,5 P.)"
   ]
  },
  {
   "cell_type": "code",
   "execution_count": 100,
   "metadata": {},
   "outputs": [
    {
     "name": "stdout",
     "output_type": "stream",
     "text": [
      "Nummer 19 -> Anzahl: 4\n"
     ]
    }
   ],
   "source": [
    "a = [15, 1, 13, 19, 17, 16, 2, 14, 19, 4, 19, 3, 12, 4, 2, 19, 8, 13, 18,18]\n",
    "# 2 (oder mehr) Modus Beispiel\n",
    "#a = [15, 1, 13, 19, 17, 16, 2, 14, 19, 4, 19, 3, 12, 4, 2, 19, 8, 13, 18,18,18,18,1,1,1]# 2 (oder mehr) Modus Beispiel\n",
    "\n",
    "a_unique = set(a)\n",
    "a_unique_dict = dict.fromkeys(a_unique, 0)\n",
    "\n",
    "count=0\n",
    "for el in a_unique:\n",
    "    for ax in a:\n",
    "        if el == ax:\n",
    "            a_unique_dict[el]+=1\n",
    "\n",
    "geordnete_list = sorted(a_unique_dict.items(), key = lambda x: x[1], reverse = True)        \n",
    "geordnete_list_modus = dict(geordnete_list[:1])\n",
    "max_iter_value =list(geordnete_list_modus.values())[0] \n",
    "\n",
    "for key, value in dict(geordnete_list).items():\n",
    "    if value == max_iter_value:\n",
    "        print (\"Nummer\", key,\"-> Anzahl:\",value)\n",
    "\n",
    "\n",
    "\n"
   ]
  },
  {
   "cell_type": "markdown",
   "metadata": {},
   "source": [
    "## b) Berechnung des Medians. (1,5 P.)"
   ]
  },
  {
   "cell_type": "code",
   "execution_count": 1,
   "metadata": {},
   "outputs": [
    {
     "name": "stdout",
     "output_type": "stream",
     "text": [
      "2\n"
     ]
    }
   ],
   "source": [
    "b = [15, 1, 13, 19, 17, 16, 2, 14, 19, 4, 19, 3, 12, 4, 2, 19, 8, 13, 18, 18] #gerade\n",
    "#b = [15, 1, 13, 19, 17, 16, 2, 14, 19, 4, 19, 3, 12, 4, 2, 19, 8, 13, 18, 18,19] #ungerade\n",
    "b = [1,2,4,6,7] # Test des Tutores \n",
    "\n",
    "b_sorted = sorted(b)\n",
    "b_elements_count = len(b_sorted)\n",
    "result = 0\n",
    "\n",
    "if b_elements_count % 2 != 0: \n",
    "    result = b_sorted[int(b_elements_count/2)-1 ] #ungerade \n",
    "else:\n",
    "    result = ( b_sorted[int((b_elements_count-1)/2 )]+ b_sorted[int((b_elements_count-1)/2 )+1] )/2 #gerade \n",
    "\n",
    "print (result)"
   ]
  },
  {
   "cell_type": "markdown",
   "metadata": {},
   "source": [
    "# Aufgabe 2.2:"
   ]
  },
  {
   "cell_type": "markdown",
   "metadata": {},
   "source": [
    "### Schreiben Sie eine Klasse, die einen Würfel modeliert. Diese soll zudem die Historie von Würfen speichern. Hierfür soll es drei Funktionen geben: (je 1,5 P.)\n",
    "\n",
    "## i. Eine Funktion roll, die Zufällig eine Zahl zwischen 1 und 6 generiert, speichert und zurückgibt.\n",
    "\n",
    "## ii. Eine Funktion history, die die Wurfhistorie zurückgibt.\n",
    "\n",
    "## iii. Eine Funktion expectedValue, die den Mittelwert der bereits geworfenen Würfe zurückgibt."
   ]
  },
  {
   "cell_type": "code",
   "execution_count": 4,
   "metadata": {
    "collapsed": true
   },
   "outputs": [],
   "source": [
    "import random\n",
    "\n",
    "class Dice(object):\n",
    "    def __init__(self):\n",
    "        self.dice_history = []\n",
    "    def roll(self):\n",
    "        result = random.randint(1,6)\n",
    "        self.dice_history.append(result)\n",
    "        return result\n",
    "    def history(self):\n",
    "        return (self.dice_history)\n",
    "    def expectedValue(self):\n",
    "        n = len(self.dice_history)\n",
    "        s = 0\n",
    "        for d in self.dice_history:\n",
    "            s += d\n",
    "        return s/n"
   ]
  },
  {
   "cell_type": "markdown",
   "metadata": {},
   "source": [
    "### Erstellen Sie drei Mini-Szenarios, in dem eine Würfleinstanz erstellt und dann der Würfel 10, 10.000, bzw. 100.000 mal geworfen wird. Geben Sie anschließend jeweils die ersten 10 Würfe der Historie aus und zeigen Sie den Erwartungswert des Würfels. (1,5 P.)"
   ]
  },
  {
   "cell_type": "code",
   "execution_count": 6,
   "metadata": {},
   "outputs": [
    {
     "name": "stdout",
     "output_type": "stream",
     "text": [
      "[3, 4, 2, 3, 6, 3, 3, 4, 4, 3]\n",
      "[6, 5, 5, 1, 2, 5, 2, 4, 5, 3]\n",
      "[1, 5, 5, 1, 3, 6, 2, 4, 2, 5]\n",
      "3.5\n",
      "3.5425\n",
      "3.49401\n"
     ]
    }
   ],
   "source": [
    "dice1 = Dice() \n",
    "dice2 = Dice() \n",
    "dice3 = Dice() \n",
    "n1 = 10\n",
    "n2 = 10000\n",
    "n3 = 100000\n",
    "\n",
    "def rolling(dice,iterations):\n",
    "    for i in range(iterations):\n",
    "        dice.roll()\n",
    "\n",
    "rolling(dice1,n1)        \n",
    "rolling(dice2,n2)\n",
    "rolling(dice3,n3)\n",
    "\n",
    "print(dice1.history()[:10])\n",
    "print(dice2.history()[:10])\n",
    "print(dice3.history()[:10])\n",
    "\n",
    "print(dice1.expectedValue())\n",
    "print(dice2.expectedValue())\n",
    "print(dice3.expectedValue())"
   ]
  },
  {
   "cell_type": "markdown",
   "metadata": {},
   "source": [
    "# Aufgabe 2.3\n",
    "### Schreiben Sie ein Programm, welches für einen vom Benutzer eingegebenen Wert die Fibonacci Zahlen rekursiv berechnet und ausgibt. (2 P.)"
   ]
  },
  {
   "cell_type": "code",
   "execution_count": 93,
   "metadata": {},
   "outputs": [
    {
     "name": "stdout",
     "output_type": "stream",
     "text": [
      "Bitte geben Sie einen Wert: 10\n",
      "Fibonacci-Folge für 10\n"
     ]
    },
    {
     "data": {
      "text/plain": [
       "[0, 1, 1, 2, 3, 5, 8, 13, 21, 34]"
      ]
     },
     "execution_count": 93,
     "metadata": {},
     "output_type": "execute_result"
    }
   ],
   "source": [
    "def fib(n):\n",
    "    if n == 0: return 0\n",
    "    if n == 1: return 1\n",
    "    return fib(n-2)+fib(n-1)\n",
    "\n",
    "n = int(input(\"Bitte geben Sie einen Wert: \"))\n",
    "print(\"Fibonacci-Folge für \"+ str(n))\n",
    "[fib(i) for i in range(n)]\n",
    "\n"
   ]
  },
  {
   "cell_type": "markdown",
   "metadata": {},
   "source": [
    "### Schreiben eine zweite Funktion, in der die Fibonacci-Zahlen iterativ berechnet werden."
   ]
  },
  {
   "cell_type": "code",
   "execution_count": 94,
   "metadata": {},
   "outputs": [
    {
     "name": "stdout",
     "output_type": "stream",
     "text": [
      "Bitte geben Sie einen Wert: 10\n",
      "Fibonacci-Folge für 10\n"
     ]
    },
    {
     "data": {
      "text/plain": [
       "[0, 1, 1, 2, 3, 5, 8, 13, 21, 34]"
      ]
     },
     "execution_count": 94,
     "metadata": {},
     "output_type": "execute_result"
    }
   ],
   "source": [
    "def fib_for(n):\n",
    "    aux_result=[]\n",
    "    for i in range(n):\n",
    "     \n",
    "        if i == 0: \n",
    "            aux_result.append( 0 ) \n",
    "        elif i == 1: \n",
    "            aux_result.append( 1 )\n",
    "        else:\n",
    "            aux_result.append( aux_result[i-1] + aux_result[i-2] )\n",
    "    return aux_result\n",
    "\n",
    "\n",
    "n = int(input(\"Bitte geben Sie einen Wert: \"))\n",
    "print(\"Fibonacci-Folge für \"+ str(n))\n",
    "fib_for(n)"
   ]
  },
  {
   "cell_type": "markdown",
   "metadata": {},
   "source": [
    "# Aufgabe 2.4\n",
    "### Die folgenden Aufgaben sollen mithilfe von Python bearbeitet werden. Sie dürfen alle möglichen Pakete einbinden, die ihnen einfallen.\n",
    "## a) Berechnen Sie den Wert der Ableitung von $f(x)=\\frac{e^{3-x}}{2x}$ an der Stelle $x=1$. (2 P.)"
   ]
  },
  {
   "cell_type": "code",
   "execution_count": 10,
   "metadata": {},
   "outputs": [
    {
     "data": {
      "text/plain": [
       "-7.38905609893065"
      ]
     },
     "execution_count": 10,
     "metadata": {},
     "output_type": "execute_result"
    }
   ],
   "source": [
    "import sympy as sp\n",
    "x = sp.symbols(\"x\")\n",
    "\n",
    "expression =(sp.exp(3-x))/(2*x)\n",
    "derivative = sp.diff(expression,x)\n",
    "evaluated_derivative = derivative.evalf(subs={x:1})\n",
    "\n",
    "evaluated_derivative"
   ]
  },
  {
   "cell_type": "markdown",
   "metadata": {},
   "source": [
    "## b) Plotten Sie den Funktionswerte der Funktion $g(x)=sin(\\pi-x)+\\sqrt x$ von 0 bis 4 in 0,5-er Schritten ohne durchgezogene Linie (nur die Punkte sollen eingezeichnet sein). Die Punkte sollen grün sein und an der $y$-Achse soll das Wort \"Werte\" stehen. (4 P.)"
   ]
  },
  {
   "cell_type": "code",
   "execution_count": 12,
   "metadata": {},
   "outputs": [
    {
     "name": "stdout",
     "output_type": "stream",
     "text": [
      "√x + sin(x)\n"
     ]
    },
    {
     "data": {
      "image/png": "[encoded data removed]",
      "text/plain": [
       "<matplotlib.figure.Figure at 0x7f1858655dd8>"
      ]
     },
     "metadata": {},
     "output_type": "display_data"
    },
    {
     "data": {
      "text/plain": [
       "<sympy.plotting.plot.Plot at 0x7f185866d748>"
      ]
     },
     "execution_count": 12,
     "metadata": {},
     "output_type": "execute_result"
    }
   ],
   "source": [
    "import sympy as sp\n",
    "x = sp.symbols(\"x\")\n",
    "pi = sp.pi\n",
    "sin = sp.sin\n",
    "expression =sin(pi-x)+sp.sqrt(x)\n",
    "sp.pprint(expression)\n",
    "\n",
    "p1 = sp.plot(expression,(x, 0, 4),line_color=10,ylabel=\"Werte\")\n",
    "p1 "
   ]
  },
  {
   "cell_type": "markdown",
   "metadata": {},
   "source": [
    "## c) Berechnen Sie: (1,5 P.)\n",
    "$$\\int_{1}^{\\infty}\\frac{1}{\\sqrt{x}}\\text dx.$$"
   ]
  },
  {
   "cell_type": "code",
   "execution_count": 54,
   "metadata": {},
   "outputs": [
    {
     "name": "stdout",
     "output_type": "stream",
     "text": [
      "∞\n"
     ]
    }
   ],
   "source": [
    "x = sp.symbols(\"x\")\n",
    "expression =sp.integrate( 1/sp.sqrt(x),(x,1,sp.oo) )\n",
    "sp.pprint(expression)"
   ]
  },
  {
   "cell_type": "markdown",
   "metadata": {},
   "source": [
    "## d) Minimieren Sie $h:\\mathbb R^6\\rightarrow \\mathbb R^6$ mit $h(x)=\\sum_{i=1}^{4}(\\pi + e^{x_i})\\cdot(x_{i+2}-x_i^2)^2$. (3,5 P.)\n",
    "## Beginnen Sie im Punkt $x_0=\\left(\n",
    "\\begin{array}{l}\n",
    "2\\\\2\\\\2\\\\1\\\\1\\\\1\n",
    "\\end{array}\n",
    "\\right)$."
   ]
  },
  {
   "cell_type": "code",
   "execution_count": 23,
   "metadata": {},
   "outputs": [
    {
     "name": "stdout",
     "output_type": "stream",
     "text": [
      "1.73528436218e-13\n",
      "      fun: 1.7352843621848796e-13\n",
      " hess_inv: array([[ 0.00828823, -0.00302059,  0.00358386, -0.00212039,  0.01436042,\n",
      "        -0.00496221],\n",
      "       [-0.00302059,  0.00932429, -0.00711516,  0.0116304 , -0.02487194,\n",
      "         0.02972065],\n",
      "       [ 0.00358386, -0.00711516,  0.02868686, -0.00401976,  0.10843021,\n",
      "        -0.00831048],\n",
      "       [-0.00212039,  0.0116304 , -0.00401976,  0.06879337, -0.01177599,\n",
      "         0.20547878],\n",
      "       [ 0.01436042, -0.02487194,  0.10843021, -0.01177599,  0.46324695,\n",
      "        -0.01912073],\n",
      "       [-0.00496221,  0.02972065, -0.00831048,  0.20547878, -0.01912073,\n",
      "         0.65906544]])\n",
      "      jac: array([ -2.41673544e-06,  -2.22992177e-06,  -1.82065494e-06,\n",
      "         6.04265074e-06,   1.50296904e-06,  -8.76222615e-07])\n",
      "  message: 'Optimization terminated successfully.'\n",
      "     nfev: 168\n",
      "      nit: 14\n",
      "     njev: 21\n",
      "   status: 0\n",
      "  success: True\n",
      "        x: array([ 1.35999978,  1.29755155,  1.84959948,  1.68364011,  3.42101833,\n",
      "        2.83464395])\n"
     ]
    }
   ],
   "source": [
    "from scipy.optimize import minimize\n",
    "import numpy as np\n",
    "\n",
    "def h(x):\n",
    "    h = 0\n",
    "    for i in range(4):\n",
    "        h += (np.pi + np.exp(x[i])) * (x[i + 2] - x[i]**2)**2\n",
    "    return h\n",
    "\n",
    "x_0 = np.array([2,2,2,1,1,1])\n",
    "mini = minimize(h, x_0)\n",
    "print(h(mini.x))\n",
    "print(mini)"
   ]
  },
  {
   "cell_type": "code",
   "execution_count": null,
   "metadata": {
    "collapsed": true
   },
   "outputs": [],
   "source": []
  },
  {
   "cell_type": "code",
   "execution_count": null,
   "metadata": {
    "collapsed": true
   },
   "outputs": [],
   "source": []
  }
 ],
 "metadata": {
  "kernelspec": {
   "display_name": "Python 3",
   "language": "python",
   "name": "python3"
  },
  "language_info": {
   "codemirror_mode": {
    "name": "ipython",
    "version": 3
   },
   "file_extension": ".py",
   "mimetype": "text/x-python",
   "name": "python",
   "nbconvert_exporter": "python",
   "pygments_lexer": "ipython3",
   "version": "3.6.2"
  }
 },
 "nbformat": 4,
 "nbformat_minor": 2
}
