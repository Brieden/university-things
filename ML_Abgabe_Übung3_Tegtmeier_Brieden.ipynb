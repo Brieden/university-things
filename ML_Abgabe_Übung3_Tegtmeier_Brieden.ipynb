{
 "cells": [
  {
   "cell_type": "markdown",
   "metadata": {},
   "source": [
    "# Aufgabe 3.1\n",
    "### Berechnen Sie für die Werte\n",
    "$$ 4,2,5,6,1,6,8,3,4,9 $$\n",
    "### folgende Kennzahlen mit Taschenrechner und beantworten Sie die Fragen: (je 1 P.)\n",
    "## a) Wie groß ist die Standardabweichung?"
   ]
  },
  {
   "cell_type": "markdown",
   "metadata": {},
   "source": [
    "$$X = [4,2,5,6,1,6,8,3,4,9]$$\n",
    "$$n = 10$$\n",
    "<br>\n",
    "$$\\bar{X}=\\dfrac{4+2+5+6+1+6+8+3+4+9}{10}=4.8$$\n",
    "<br>\n",
    "$$Standardabweichung:= \\sigma$$\n",
    "<br>\n",
    "$$\\sigma = \\sqrt{\\dfrac{(4-4.8)^2+(2-4.8)^2+(5-4.8)^2+(6-4.8)^2+(1-4.8)^2+(6-4.8)^2+(8-4.8)^2+(3-4.8)^2+(4-4.8)^2+(9-4.8)^2}{10}  }$$  \n",
    "$$\\sigma = 2.4 $$"
   ]
  },
  {
   "cell_type": "markdown",
   "metadata": {},
   "source": [
    "## b) Sind die Daten rechts- oder linksschief?"
   ]
  },
  {
   "cell_type": "markdown",
   "metadata": {},
   "source": [
    "\n",
    "Schief kann mann mit 3es Momment berechnen <br>\n",
    "<br>\n",
    "$Schief = \\frac{(4-4.8)^3+(2-4.8)^3+(5-4.8)^3+(6-4.8)^3+(1-4.8)^3+(6-4.8)^3+(8-4.8)^3+(3-4.8)^3+(4-4.8)^3+(9-4.8)^3}{10}$\n",
    "\n",
    "\n",
    "$Schief = 2.664$\n",
    "\n",
    "\n",
    "<br>\n",
    "$Schief > 0: Verteilung ~ist~ rechtsschief$\n"
   ]
  },
  {
   "cell_type": "markdown",
   "metadata": {},
   "source": [
    "## c) Sind die Daten lepto- oder platykurtisch?"
   ]
  },
  {
   "cell_type": "markdown",
   "metadata": {},
   "source": [
    "Kurtosis kann mann mit 4es Momment berechnen <br>\n",
    "<br>\n",
    "$Kurtosis = \n",
    "\\frac{(4-4.8)^4+(2-4.8)^4+(5-4.8)^4+(6-4.8)^4+(1-4.8)^4+(6-4.8)^4+(8-4.8)^4+(3-4.8)^4+(4-4.8)^4+(9-4.8)^4}{10}\n",
    "$\n",
    "\n",
    "$Kurtosis = 70.1472$\n",
    "\n",
    "$\\beta = \\frac{\n",
    "\\frac{(4-4.8)^4+(2-4.8)^4+(5-4.8)^4+(6-4.8)^4+(1-4.8)^4+(6-4.8)^4+(8-4.8)^4+(3-4.8)^4+(4-4.8)^4+(9-4.8)^4}{10}\n",
    "}{\\sigma^4} = 2.1142$\n",
    "\n",
    "<br>\n",
    "$beta < 3:~ \\Rightarrow Platykurtisch$"
   ]
  },
  {
   "cell_type": "markdown",
   "metadata": {},
   "source": [
    "## d) Welchen Wert haben die Quartile?"
   ]
  },
  {
   "cell_type": "markdown",
   "metadata": {},
   "source": [
    "Wir müssen die Werte zuerst sortieren: <br>\n",
    "$Werte = [1, 2, 3, 4, 4, 5, 6, 6, 8, 9]$ <br>\n",
    "\n",
    "$q=4$ <br>\n",
    "N=10\n",
    "$p_i=\\frac{k_{i}}{q}~,~ i=1,..,q-1$ <br>\n",
    "\n",
    "$Np_1= 2.5 ~ \\Rightarrow Halbzahlig$ <br>\n",
    "$X_{p1}=X_{[Np_1]+1}~ \\Rightarrow [Np_1]+1 = 3$ <br>\n",
    "$X_{p1}=X_{3}=3$\n",
    "<br><br>\n",
    "$Np_2= 5 ~ \\Rightarrow Ganzzahlig$ <br>\n",
    "$X_{p2}=~ 0.5 ~ (X_{Np_2}+ X_{Np_2+1} )~ \\Rightarrow Np_2 = 5, Np_{2+1} = 6$ , X_{5}=4 , X_{6} = 5<br>\n",
    "$X_{p2}=0.5\\times4\\times5=4.5$\n",
    "<br><br>\n",
    "$Np_3= 7.5 ~ \\Rightarrow Halbzahlig$ <br>\n",
    "$X_{p3}=X_{[Np_3]+1}~ \\Rightarrow [Np_3]+1 = 8$ <br>\n",
    "$X_{p3}=X_{8}=6$"
   ]
  },
  {
   "cell_type": "markdown",
   "metadata": {},
   "source": [
    "## e) Gibt es Ausreißer? Wenn ja, welche?"
   ]
  },
  {
   "cell_type": "markdown",
   "metadata": {},
   "source": [
    "$\n",
    "Untergrenze = Q1 - 1.5 * IQR = X_{p1} - 1.5* (X_{p3}-X_{p1}) = 3-1.5*(6-3) =-1.5\\\\\n",
    "Obergrenze  = Q3 + 1.5 * IQR = X_{p3} + 1.5* (X_{p3}-X_{p1}) = 6+1.5*(6-3) = 10.5\\\\\n",
    "$\n",
    "\n",
    "Es ist keine Zahl kleiner als die Untergrenze und keine Zahl größer als die Obergrenze. Es gibt keine Ausreißer."
   ]
  },
  {
   "cell_type": "markdown",
   "metadata": {},
   "source": [
    "# Aufgabe 3.2\n",
    "\n",
    "## a) Schreiben Sie eine Funktion, die den Korrelationskoeffizienten zweier Variablen berechnet. In dieser Teilaufgabe dürfen Sie keine Pakete verwenden. (3,5 P.)"
   ]
  },
  {
   "cell_type": "code",
   "execution_count": 1,
   "metadata": {},
   "outputs": [
    {
     "data": {
      "text/plain": [
       "0.25145944030220063"
      ]
     },
     "execution_count": 1,
     "metadata": {},
     "output_type": "execute_result"
    }
   ],
   "source": [
    "def Korrelation(x,y):\n",
    "    if len(x) != len(y):\n",
    "        print (\"Beide Variablen sollen die selbe Länge haben\")\n",
    "        return 0\n",
    "    \n",
    "    x_bar= sum(x)/len(x)\n",
    "    y_bar = sum(y)/len(y)\n",
    "    \n",
    "    a_xy=0\n",
    "    a_x=0\n",
    "    a_y=0\n",
    "    for i in range(len(x)):\n",
    "       a_xy += (x[i]-x_bar)*(y[i]-y_bar) \n",
    "       a_x += (x[i]-x_bar)**2\n",
    "       a_y += (y[i]-y_bar)**2\n",
    "    \n",
    "    r = a_xy / ( a_x**(1/2) *   a_y**(1/2)  )\n",
    "    return r\n",
    "\n",
    "x=[10,1,2,3,4,5]\n",
    "y=[9,8,7,6,5,4]\n",
    "\n",
    "Korrelation(x,y)"
   ]
  },
  {
   "cell_type": "markdown",
   "metadata": {},
   "source": [
    "## b) Importieren Sie die Datei icecream.csv als Tabelle in einem Python Editor, zum Beispiel Spyder. Betrachten Sie die Daten und führen Sie bei Bedarf ein Data Cleaning (Datenbereinigung) durch. Was muss beachtet werden, bevor der Korrelationskoefzient berechnet werden kann? (3 P.)"
   ]
  },
  {
   "cell_type": "code",
   "execution_count": 2,
   "metadata": {},
   "outputs": [
    {
     "data": {
      "text/html": [
       "<div>\n",
       "<style>\n",
       "    .dataframe thead tr:only-child th {\n",
       "        text-align: right;\n",
       "    }\n",
       "\n",
       "    .dataframe thead th {\n",
       "        text-align: left;\n",
       "    }\n",
       "\n",
       "    .dataframe tbody tr th {\n",
       "        vertical-align: top;\n",
       "    }\n",
       "</style>\n",
       "<table border=\"1\" class=\"dataframe\">\n",
       "  <thead>\n",
       "    <tr style=\"text-align: right;\">\n",
       "      <th></th>\n",
       "      <th>Temperature</th>\n",
       "      <th>Ice_Cream_Sales</th>\n",
       "    </tr>\n",
       "  </thead>\n",
       "  <tbody>\n",
       "    <tr>\n",
       "      <th>0</th>\n",
       "      <td>14.2</td>\n",
       "      <td>215</td>\n",
       "    </tr>\n",
       "    <tr>\n",
       "      <th>1</th>\n",
       "      <td>16.4</td>\n",
       "      <td>325</td>\n",
       "    </tr>\n",
       "    <tr>\n",
       "      <th>2</th>\n",
       "      <td>11.9</td>\n",
       "      <td>185</td>\n",
       "    </tr>\n",
       "    <tr>\n",
       "      <th>3</th>\n",
       "      <td>15.2</td>\n",
       "      <td>332</td>\n",
       "    </tr>\n",
       "    <tr>\n",
       "      <th>4</th>\n",
       "      <td>18.5</td>\n",
       "      <td>406</td>\n",
       "    </tr>\n",
       "    <tr>\n",
       "      <th>5</th>\n",
       "      <td>22.1</td>\n",
       "      <td>522</td>\n",
       "    </tr>\n",
       "    <tr>\n",
       "      <th>6</th>\n",
       "      <td>19.4</td>\n",
       "      <td>412</td>\n",
       "    </tr>\n",
       "    <tr>\n",
       "      <th>7</th>\n",
       "      <td>25.1</td>\n",
       "      <td>614</td>\n",
       "    </tr>\n",
       "    <tr>\n",
       "      <th>8</th>\n",
       "      <td>23.4</td>\n",
       "      <td>544</td>\n",
       "    </tr>\n",
       "    <tr>\n",
       "      <th>9</th>\n",
       "      <td>18.1</td>\n",
       "      <td>421</td>\n",
       "    </tr>\n",
       "    <tr>\n",
       "      <th>10</th>\n",
       "      <td>22.6</td>\n",
       "      <td>445</td>\n",
       "    </tr>\n",
       "    <tr>\n",
       "      <th>11</th>\n",
       "      <td>17.2</td>\n",
       "      <td>408</td>\n",
       "    </tr>\n",
       "  </tbody>\n",
       "</table>\n",
       "</div>"
      ],
      "text/plain": [
       "    Temperature  Ice_Cream_Sales\n",
       "0          14.2              215\n",
       "1          16.4              325\n",
       "2          11.9              185\n",
       "3          15.2              332\n",
       "4          18.5              406\n",
       "5          22.1              522\n",
       "6          19.4              412\n",
       "7          25.1              614\n",
       "8          23.4              544\n",
       "9          18.1              421\n",
       "10         22.6              445\n",
       "11         17.2              408"
      ]
     },
     "execution_count": 2,
     "metadata": {},
     "output_type": "execute_result"
    }
   ],
   "source": [
    "import numpy as np\n",
    "import matplotlib.pyplot as plt\n",
    "import pandas as pd\n",
    "import scipy.stats as stats\n",
    "df = pd.read_csv(\"icecream.csv\")\n",
    "df"
   ]
  },
  {
   "cell_type": "code",
   "execution_count": 3,
   "metadata": {},
   "outputs": [
    {
     "name": "stdout",
     "output_type": "stream",
     "text": [
      "Es gibt keine Ausreißer\n",
      "Es gibt keine Ausreißer\n",
      "       Temperature  Ice_Cream_Sales\n",
      "count    12.000000        12.000000\n",
      "mean     18.675000       402.416667\n",
      "std       4.011149       126.042892\n",
      "min      11.900000       185.000000\n",
      "25%      16.100000       330.250000\n",
      "50%      18.300000       410.000000\n",
      "75%      22.225000       464.250000\n",
      "max      25.100000       614.000000\n",
      "Keine Ausreisser,  Keine Null-Daten:  \n",
      " Data cleaning ist nicht erforderlich.\n"
     ]
    }
   ],
   "source": [
    "def Quantile(q, Werte):\n",
    "    x = np.zeros(q)\n",
    "    n = len(Werte)\n",
    "    for k in range(q):\n",
    "        p = k/q\n",
    "        if (n*p)==int(n*p): # ganzzahlig\n",
    "            x[k] = 0.5 * (Werte[ int( p * n) - 1] + Werte[ int( p * n )])\n",
    "        else:\n",
    "            x[k] = Werte[ int( p * n )]\n",
    "    return x[1:]\n",
    "\n",
    "for Spalte in [np.array(df.Temperature.sort_values()), np.array(df.Ice_Cream_Sales.sort_values())]:\n",
    "    quartiles = Quantile(4,Spalte)\n",
    "    Interquartile_range = quartiles[2] - quartiles[0]\n",
    "    untergrenze = quartiles[0] - 1.5 * Interquartile_range\n",
    "    obergrenze  = quartiles[2] + 1.5 * Interquartile_range\n",
    "    if len(Spalte[(Spalte<=untergrenze) & (Spalte>=obergrenze)])==0:\n",
    "        print(\"Es gibt keine Ausreißer\")\n",
    "    else:\n",
    "        print(\"Die Ausreißer sind:\", Spalte[(Spalte<=untergrenze) & (Spalte>=obergrenze)])\n",
    "print(df.describe())\n",
    "print ( \"Keine Ausreisser, \", \"Keine Null-Daten: \", \"\\n Data cleaning ist nicht erforderlich.\")"
   ]
  },
  {
   "cell_type": "markdown",
   "metadata": {},
   "source": [
    "## c) Berechnen Sie den Korrelationskoeffizienten zwischen Temperature und Sales. Interpretieren Sie das Ergebnis. (1 P.)"
   ]
  },
  {
   "cell_type": "code",
   "execution_count": 4,
   "metadata": {},
   "outputs": [
    {
     "name": "stdout",
     "output_type": "stream",
     "text": [
      "0.957506623002\n"
     ]
    }
   ],
   "source": [
    "print (Korrelation(df.Temperature,df.Ice_Cream_Sales) )"
   ]
  },
  {
   "cell_type": "markdown",
   "metadata": {},
   "source": [
    "## d) Plotten Sie die Korrelation zwischen Temperature und Sales. (1 P.)"
   ]
  },
  {
   "cell_type": "code",
   "execution_count": 5,
   "metadata": {},
   "outputs": [
    {
     "data": {
      "image/png": "[encoded data removed]",
      "text/plain": [
       "<matplotlib.figure.Figure at 0x7f417dd6e978>"
      ]
     },
     "metadata": {},
     "output_type": "display_data"
    }
   ],
   "source": [
    "x = range(int(min(df.Temperature)-1),int(max(df.Temperature))+1)\n",
    "plt.plot(x, stats.linregress(df)[0]*x + stats.linregress(df)[1], alpha=0.6)\n",
    "plt.plot(df.Temperature,df.Ice_Cream_Sales,\"x\")\n",
    "plt.xlabel(\"Temperature\")\n",
    "plt.ylabel(\"Ice Cream Sales\")\n",
    "plt.show()"
   ]
  },
  {
   "cell_type": "markdown",
   "metadata": {},
   "source": [
    "## e) In der PDF dieser Aufgabe finden Sie den Verlauf von 2 Aktienverläufen. Was wird als Korrlation erwartet? Begründen Sie. (1,5 P.)"
   ]
  },
  {
   "cell_type": "markdown",
   "metadata": {},
   "source": [
    "Wir erwarten eine Korrelation von -1,0. Es sieht so aus, als wären die beiden Verläufe an einer horizontalen Linie gespiegelt."
   ]
  },
  {
   "cell_type": "markdown",
   "metadata": {},
   "source": [
    "# Aufgabe 3.3\n",
    "## Zeigen Sie, das die Varianz des Datensatzes mit n Einträgen mittels folgender Formel berechnet werden kann: (4 P.)\n",
    "$$ Var(X)=E(X^2)-E(X)^2 $$"
   ]
  },
  {
   "cell_type": "markdown",
   "metadata": {},
   "source": [
    "$\n",
    "\\begin{matrix}\n",
    "\\text{Var}(X_j) &:=& \\text{E}\\left((X_j-\\mu_j)^2\\right)&||&\n",
    "\\text{ausmultiplizieren}\\\\\n",
    "&=&\\text{E}(X_j^2-2X_j\\mu_j+\\mu_j^2)&||&\n",
    "\\text{Linearität von E() ausnutzen}\\\\\n",
    "&=&\\text{E}(X_j^2)-\\text{E}(2X_j\\mu_j)+\\text{E}(\\mu_j^2)&||&\n",
    "\\text{Linearität von E() und die Definition: } E(\\mu_j^2)= E(X_j)^2\\\\\n",
    "&=&\\text{E}(X_j^2)-2\\text{E}(X_j)\\text{E}(\\mu_j)+\\text{E}(X_j)^2&||&\n",
    "\\text{Der Erwartungswert von }\\mu\\text{ einer Menge ist gleich }\\mu\\text{der Menge}\\\\\n",
    "&=&\\text{E}(X_j^2)-2\\text{E}(X_j)\\text{E}(X_j)+\\text{E}(X_j)^2\\\\\n",
    "&=&\\text{E}(X_j^2)-2\\text{E}(X_j)^2+\\text{E}(X_j)^2\\\\\n",
    "&=&\\text{E}(X_j^2)-\\text{E}(X_j)^2\\\\\n",
    "\\end{matrix}$"
   ]
  }
 ],
 "metadata": {
  "kernelspec": {
   "display_name": "Python 3",
   "language": "python",
   "name": "python3"
  },
  "language_info": {
   "codemirror_mode": {
    "name": "ipython",
    "version": 3
   },
   "file_extension": ".py",
   "mimetype": "text/x-python",
   "name": "python",
   "nbconvert_exporter": "python",
   "pygments_lexer": "ipython3",
   "version": "3.6.3"
  }
 },
 "nbformat": 4,
 "nbformat_minor": 2
}
