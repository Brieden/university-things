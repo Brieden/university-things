{
 "cells": [
  {
   "cell_type": "code",
   "execution_count": 20,
   "metadata": {
    "collapsed": true
   },
   "outputs": [],
   "source": [
    "import numpy as np\n",
    "import matplotlib.pyplot as plt\n",
    "import time as time\n",
    "%matplotlib inline\n",
    "plt.rcParams['figure.figsize'] = (10.0, 3.0)"
   ]
  },
  {
   "cell_type": "markdown",
   "metadata": {},
   "source": [
    "# Aufgabe 2.1"
   ]
  },
  {
   "cell_type": "code",
   "execution_count": 21,
   "metadata": {},
   "outputs": [
    {
     "name": "stdout",
     "output_type": "stream",
     "text": [
      "Runtime of 100000 times. The approache with sinh(x)/cosh(x) needs 0.227 secunds and the approache with Taylor series 0.207 secunds\n"
     ]
    }
   ],
   "source": [
    "def tanh_exact(x):\n",
    "    y = np.exp( 2 * x )\n",
    "    return (y - 1) / (y + 1)\n",
    "def tanh_taylor(x):\n",
    "    return x - x**3/3 + 2*x**5/15 - 17*x**7/315\n",
    "\n",
    "def runtime(func, x_all):\n",
    "    t0 = time.time()\n",
    "    for x in x_all:\n",
    "        tanh_exact(x)\n",
    "    return time.time() - t0\n",
    "\n",
    "n = 100000\n",
    "x_all = np.linspace(0,1, n)\n",
    "print(\"Runtime of %i times. The approache with sinh(x)/cosh(x)\\\n",
    " needs %.3f secunds and the approache with Taylor series %.3f secunds\" %( \n",
    "    n,\n",
    "    runtime(tanh_exact, x_all), \n",
    "    runtime(tanh_taylor, x_all))\n",
    "     )"
   ]
  },
  {
   "cell_type": "markdown",
   "metadata": {},
   "source": [
    "# Aufgabe 2.2\n",
    "Analytical we get the result:\n",
    "$\\sum_n^\\infty\\frac{2n + 1}{n^2 (n + 1)^2}$ = 1"
   ]
  },
  {
   "cell_type": "code",
   "execution_count": 61,
   "metadata": {},
   "outputs": [
    {
     "name": "stdout",
     "output_type": "stream",
     "text": [
      "To reach an accuracy of 10^−5 we need 321 terms.\n"
     ]
    },
    {
     "data": {
      "image/png": "[encoded data removed]",
      "text/plain": [
       "<matplotlib.figure.Figure at 0x7f84ef6d03c8>"
      ]
     },
     "metadata": {},
     "output_type": "display_data"
    }
   ],
   "source": [
    "def func(N):   \n",
    "    return sum([ (2 * n + 1) / (n**2 * (n + 1)**2) for n in range(1,N) ])\n",
    "n_rang = np.arange(1,2000)\n",
    "plt.plot(n_rang, [ 1 - func(N) for N in n_rang])\n",
    "plt.plot(n_rang, 1e-5 + 0*(n_rang), alpha = 0.5)\n",
    "plt.xlabel(\"number of summands N\")\n",
    "plt.ylabel(\"accuracy or error\")\n",
    "plt.loglog()\n",
    "\n",
    "accuracy, H = 1, 0\n",
    "while accuracy >= 1e-5:\n",
    "    accuracy = 1 - func(N)\n",
    "    N += 1\n",
    "print(\"To reach an accuracy of 10^−5 we need %i terms.\"%N)"
   ]
  },
  {
   "cell_type": "markdown",
   "metadata": {},
   "source": [
    "# Aufgabe 2.3\n"
   ]
  },
  {
   "cell_type": "code",
   "execution_count": 49,
   "metadata": {},
   "outputs": [
    {
     "data": {
      "text/plain": [
       "True"
      ]
     },
     "execution_count": 49,
     "metadata": {},
     "output_type": "execute_result"
    }
   ],
   "source": [
    "2<3"
   ]
  },
  {
   "cell_type": "code",
   "execution_count": 50,
   "metadata": {},
   "outputs": [
    {
     "data": {
      "text/plain": [
       "1e-05"
      ]
     },
     "execution_count": 50,
     "metadata": {},
     "output_type": "execute_result"
    }
   ],
   "source": [
    "10**(-5)"
   ]
  },
  {
   "cell_type": "code",
   "execution_count": 52,
   "metadata": {},
   "outputs": [
    {
     "data": {
      "text/plain": [
       "1e-05"
      ]
     },
     "execution_count": 52,
     "metadata": {},
     "output_type": "execute_result"
    }
   ],
   "source": [
    "1e-5"
   ]
  },
  {
   "cell_type": "code",
   "execution_count": null,
   "metadata": {
    "collapsed": true
   },
   "outputs": [],
   "source": []
  }
 ],
 "metadata": {
  "kernelspec": {
   "display_name": "Python 3",
   "language": "python",
   "name": "python3"
  },
  "language_info": {
   "codemirror_mode": {
    "name": "ipython",
    "version": 3
   },
   "file_extension": ".py",
   "mimetype": "text/x-python",
   "name": "python",
   "nbconvert_exporter": "python",
   "pygments_lexer": "ipython3",
   "version": "3.6.3"
  }
 },
 "nbformat": 4,
 "nbformat_minor": 2
}
